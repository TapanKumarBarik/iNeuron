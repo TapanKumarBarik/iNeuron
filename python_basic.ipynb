{
  "cells": [
    {
      "cell_type": "markdown",
      "metadata": {
        "id": "view-in-github",
        "colab_type": "text"
      },
      "source": [
        "<a href=\"https://colab.research.google.com/github/TapanKumarBarik/iNeuron/blob/main/python_basic.ipynb\" target=\"_parent\"><img src=\"https://colab.research.google.com/assets/colab-badge.svg\" alt=\"Open In Colab\"/></a>"
      ]
    },
    {
      "cell_type": "code",
      "execution_count": null,
      "metadata": {
        "id": "w5fvkr80cWhM",
        "outputId": "a34589c6-6964-4334-c71d-9ae339762e74"
      },
      "outputs": [
        {
          "name": "stdout",
          "output_type": "stream",
          "text": [
            "this is my first python program\n"
          ]
        }
      ],
      "source": [
        "#this is my first prog\n",
        "print('this is my first python program')"
      ]
    },
    {
      "cell_type": "code",
      "execution_count": null,
      "metadata": {
        "id": "QvmaTJZxcWhb",
        "outputId": "c89ad26a-1a35-4ee0-e38e-3dbd433aa4bf"
      },
      "outputs": [
        {
          "ename": "SyntaxError",
          "evalue": "Missing parentheses in call to 'print'. Did you mean print(\" this is my first program\")? (<ipython-input-5-470a57016701>, line 1)",
          "output_type": "error",
          "traceback": [
            "\u001b[1;36m  File \u001b[1;32m\"<ipython-input-5-470a57016701>\"\u001b[1;36m, line \u001b[1;32m1\u001b[0m\n\u001b[1;33m    print \" this is my first program\"\u001b[0m\n\u001b[1;37m          ^\u001b[0m\n\u001b[1;31mSyntaxError\u001b[0m\u001b[1;31m:\u001b[0m Missing parentheses in call to 'print'. Did you mean print(\" this is my first program\")?\n"
          ]
        }
      ],
      "source": [
        "print \" this is my first program\""
      ]
    },
    {
      "cell_type": "code",
      "execution_count": null,
      "metadata": {
        "id": "kmfJGhNGcWhe",
        "outputId": "ad640807-99c3-49cc-bc47-1f2edcdac82c"
      },
      "outputs": [
        {
          "data": {
            "text/plain": [
              "78"
            ]
          },
          "execution_count": 159,
          "metadata": {},
          "output_type": "execute_result"
        }
      ],
      "source": [
        "#my name is sudh\n",
        "\"\"\"FAFASFSAFSAFASFASFASFSDFASF\n",
        "ASDFASF\n",
        "ASDFASDF\n",
        "\"\"\"\n",
        "a"
      ]
    },
    {
      "cell_type": "code",
      "execution_count": null,
      "metadata": {
        "id": "113AzvxscWhh",
        "outputId": "43ecb53c-4f37-4fa4-e9aa-1c21010fd2d5"
      },
      "outputs": [
        {
          "data": {
            "text/plain": [
              "'print(\"fsdfsdfs\")\\nprint(\"Fsdfsfs\\\\FSDFSAFASFASDDF)\\nprint(\"sdfsfsdf\")'"
            ]
          },
          "execution_count": 14,
          "metadata": {},
          "output_type": "execute_result"
        }
      ],
      "source": [
        "\"\"\"print(\"fsdfsdfs\")\n",
        "print(\"Fsdfsfs\\FSDFSAFASFASDDF)\n",
        "print(\"sdfsfsdf\")\"\"\""
      ]
    },
    {
      "cell_type": "code",
      "execution_count": null,
      "metadata": {
        "id": "U2R4fbsKcWhj"
      },
      "outputs": [],
      "source": [
        "afsdf = 10"
      ]
    },
    {
      "cell_type": "code",
      "execution_count": null,
      "metadata": {
        "id": "zyrkP9fQcWhm",
        "outputId": "5c7584a7-a5d7-4fe0-a13e-70731b08efa5"
      },
      "outputs": [
        {
          "data": {
            "text/plain": [
              "10"
            ]
          },
          "execution_count": 22,
          "metadata": {},
          "output_type": "execute_result"
        }
      ],
      "source": [
        "afsdf"
      ]
    },
    {
      "cell_type": "code",
      "execution_count": null,
      "metadata": {
        "id": "KlhaUAyLcWho",
        "outputId": "98e63888-0c09-474e-cf32-1a7d82a441c4"
      },
      "outputs": [
        {
          "data": {
            "text/plain": [
              "int"
            ]
          },
          "execution_count": 20,
          "metadata": {},
          "output_type": "execute_result"
        }
      ],
      "source": [
        "type(a)"
      ]
    },
    {
      "cell_type": "code",
      "execution_count": null,
      "metadata": {
        "id": "nLu7MG5scWhr"
      },
      "outputs": [],
      "source": [
        "b = '34554sudh 45345fgf sgsd sdfg sh sghf h dhdfh df'"
      ]
    },
    {
      "cell_type": "code",
      "execution_count": null,
      "metadata": {
        "id": "Ey1Y1rfocWht",
        "outputId": "b75adfd9-8158-4afb-9933-bf66a9f412b7"
      },
      "outputs": [
        {
          "data": {
            "text/plain": [
              "'34554sudh 45345fgf sgsd sdfg sh sghf h dhdfh df'"
            ]
          },
          "execution_count": 29,
          "metadata": {},
          "output_type": "execute_result"
        }
      ],
      "source": [
        "b"
      ]
    },
    {
      "cell_type": "code",
      "execution_count": null,
      "metadata": {
        "id": "IsoejDoKcWhv",
        "outputId": "855a8857-1d1e-4b86-b482-6be6d5417e23"
      },
      "outputs": [
        {
          "data": {
            "text/plain": [
              "str"
            ]
          },
          "execution_count": 30,
          "metadata": {},
          "output_type": "execute_result"
        }
      ],
      "source": [
        "type(b)"
      ]
    },
    {
      "cell_type": "code",
      "execution_count": null,
      "metadata": {
        "id": "kCzBNXnLcWhx",
        "outputId": "e0289565-7ff7-47bb-8847-5e63a3715019"
      },
      "outputs": [
        {
          "name": "stdout",
          "output_type": "stream",
          "text": [
            "34554sudh 45345fgf sgsd sdfg sh sghf h dhdfh df 10 Fsdfsfsd\n"
          ]
        }
      ],
      "source": [
        "print(b , a ,\"Fsdfsfsd\")"
      ]
    },
    {
      "cell_type": "code",
      "execution_count": null,
      "metadata": {
        "id": "YlUsSZKRcWhz"
      },
      "outputs": [],
      "source": [
        "a = 45\n",
        "b = \"sudh \""
      ]
    },
    {
      "cell_type": "code",
      "execution_count": null,
      "metadata": {
        "id": "v7HvK-KFcWh0"
      },
      "outputs": [],
      "source": [
        "a, b  , s = 45 , \"sudh\" , \"this is my name \""
      ]
    },
    {
      "cell_type": "code",
      "execution_count": null,
      "metadata": {
        "id": "79BEthGycWh2",
        "outputId": "aa2fd960-4375-4356-a39e-f9fedca98985"
      },
      "outputs": [
        {
          "data": {
            "text/plain": [
              "45"
            ]
          },
          "execution_count": 37,
          "metadata": {},
          "output_type": "execute_result"
        }
      ],
      "source": [
        "a"
      ]
    },
    {
      "cell_type": "code",
      "execution_count": null,
      "metadata": {
        "id": "3LSq-60YcWh4",
        "outputId": "6953331a-6ea2-4e2f-9b29-33c2b4287bab"
      },
      "outputs": [
        {
          "data": {
            "text/plain": [
              "'sudh'"
            ]
          },
          "execution_count": 38,
          "metadata": {},
          "output_type": "execute_result"
        }
      ],
      "source": [
        "b"
      ]
    },
    {
      "cell_type": "code",
      "execution_count": null,
      "metadata": {
        "id": "RRL3fT4McWh5",
        "outputId": "8aca17e6-074b-4baa-daaf-c17ef3253fd8"
      },
      "outputs": [
        {
          "data": {
            "text/plain": [
              "'this is my name '"
            ]
          },
          "execution_count": 39,
          "metadata": {},
          "output_type": "execute_result"
        }
      ],
      "source": [
        "s"
      ]
    },
    {
      "cell_type": "code",
      "execution_count": null,
      "metadata": {
        "id": "lfWC9D28cWh6",
        "outputId": "28fdfd5f-3b4c-4dee-b612-9292a13e3c44"
      },
      "outputs": [
        {
          "data": {
            "text/plain": [
              "str"
            ]
          },
          "execution_count": 40,
          "metadata": {},
          "output_type": "execute_result"
        }
      ],
      "source": [
        "type(b)"
      ]
    },
    {
      "cell_type": "code",
      "execution_count": null,
      "metadata": {
        "id": "uTL4OwfocWh6",
        "outputId": "d00e4f0a-0560-4b81-b618-fe96239d549c"
      },
      "outputs": [
        {
          "data": {
            "text/plain": [
              "str"
            ]
          },
          "execution_count": 42,
          "metadata": {},
          "output_type": "execute_result"
        }
      ],
      "source": [
        "type(s)"
      ]
    },
    {
      "cell_type": "code",
      "execution_count": null,
      "metadata": {
        "id": "_4N95C4mcWh7",
        "outputId": "6d2c77bd-b4a4-4967-c6ab-b0d5fd841800"
      },
      "outputs": [
        {
          "data": {
            "text/plain": [
              "int"
            ]
          },
          "execution_count": 43,
          "metadata": {},
          "output_type": "execute_result"
        }
      ],
      "source": [
        "type(a)"
      ]
    },
    {
      "cell_type": "code",
      "execution_count": null,
      "metadata": {
        "id": "macFqSAfcWh_",
        "outputId": "9e26be37-0b9f-4f82-dd4c-947c6fdada8e"
      },
      "outputs": [
        {
          "name": "stdout",
          "output_type": "stream",
          "text": [
            "45 sudh this is my name \n"
          ]
        }
      ],
      "source": [
        "print(a,b,s)"
      ]
    },
    {
      "cell_type": "code",
      "execution_count": null,
      "metadata": {
        "id": "iCaid-KmcWiA"
      },
      "outputs": [],
      "source": [
        "b  = '\"fsdf\"'"
      ]
    },
    {
      "cell_type": "code",
      "execution_count": null,
      "metadata": {
        "id": "CvMlr-y5cWiB",
        "outputId": "4f56c70e-b78c-481e-b5fd-d9428d450739"
      },
      "outputs": [
        {
          "data": {
            "text/plain": [
              "'\"fsdf\"'"
            ]
          },
          "execution_count": 48,
          "metadata": {},
          "output_type": "execute_result"
        }
      ],
      "source": [
        "b"
      ]
    },
    {
      "cell_type": "code",
      "execution_count": null,
      "metadata": {
        "id": "VocxDej4cWiB",
        "outputId": "c24d636a-50fb-4ea2-ac2b-5745c600512a"
      },
      "outputs": [
        {
          "ename": "SyntaxError",
          "evalue": "invalid syntax (<ipython-input-49-e3f34da01b3c>, line 1)",
          "output_type": "error",
          "traceback": [
            "\u001b[1;36m  File \u001b[1;32m\"<ipython-input-49-e3f34da01b3c>\"\u001b[1;36m, line \u001b[1;32m1\u001b[0m\n\u001b[1;33m    1b = \"fsfsd\"\u001b[0m\n\u001b[1;37m     ^\u001b[0m\n\u001b[1;31mSyntaxError\u001b[0m\u001b[1;31m:\u001b[0m invalid syntax\n"
          ]
        }
      ],
      "source": [
        "1b = \"fsfsd\""
      ]
    },
    {
      "cell_type": "code",
      "execution_count": null,
      "metadata": {
        "id": "o933qU80cWiC"
      },
      "outputs": [],
      "source": [
        "B = \"fsdf\""
      ]
    },
    {
      "cell_type": "code",
      "execution_count": null,
      "metadata": {
        "id": "pxjJFaAycWiC",
        "outputId": "03d57f08-39bf-43ee-ccd3-7ec0220bfaaa"
      },
      "outputs": [
        {
          "data": {
            "text/plain": [
              "'fsdf'"
            ]
          },
          "execution_count": 51,
          "metadata": {},
          "output_type": "execute_result"
        }
      ],
      "source": [
        "B"
      ]
    },
    {
      "cell_type": "code",
      "execution_count": null,
      "metadata": {
        "id": "7s6c843acWiD"
      },
      "outputs": [],
      "source": [
        "b = \"fsfsd\""
      ]
    },
    {
      "cell_type": "code",
      "execution_count": null,
      "metadata": {
        "id": "KZHZ1_rbcWiE",
        "outputId": "d3709db9-1320-42b9-ea19-be2e5497344e"
      },
      "outputs": [
        {
          "ename": "SyntaxError",
          "evalue": "invalid syntax (<ipython-input-53-15e8dfce1214>, line 1)",
          "output_type": "error",
          "traceback": [
            "\u001b[1;36m  File \u001b[1;32m\"<ipython-input-53-15e8dfce1214>\"\u001b[1;36m, line \u001b[1;32m1\u001b[0m\n\u001b[1;33m    2b = \"sdfs\"\u001b[0m\n\u001b[1;37m     ^\u001b[0m\n\u001b[1;31mSyntaxError\u001b[0m\u001b[1;31m:\u001b[0m invalid syntax\n"
          ]
        }
      ],
      "source": [
        "2b = \"sdfs\""
      ]
    },
    {
      "cell_type": "code",
      "execution_count": null,
      "metadata": {
        "id": "rZ8PrgzBcWiF"
      },
      "outputs": [],
      "source": [
        "_b = 234534"
      ]
    },
    {
      "cell_type": "code",
      "execution_count": null,
      "metadata": {
        "id": "fdTyQTBGcWiG",
        "outputId": "fd5aaf11-06c5-4781-af01-24a0787421c2"
      },
      "outputs": [
        {
          "data": {
            "text/plain": [
              "234534"
            ]
          },
          "execution_count": 58,
          "metadata": {},
          "output_type": "execute_result"
        }
      ],
      "source": [
        "_b"
      ]
    },
    {
      "cell_type": "code",
      "execution_count": null,
      "metadata": {
        "id": "S7X-LezpcWiG",
        "outputId": "14c9c12a-75b6-4349-b63a-367cdd9dea79"
      },
      "outputs": [
        {
          "ename": "SyntaxError",
          "evalue": "invalid syntax (<ipython-input-59-0f0b1b1ea588>, line 1)",
          "output_type": "error",
          "traceback": [
            "\u001b[1;36m  File \u001b[1;32m\"<ipython-input-59-0f0b1b1ea588>\"\u001b[1;36m, line \u001b[1;32m1\u001b[0m\n\u001b[1;33m    b& = \"fsds\"\u001b[0m\n\u001b[1;37m       ^\u001b[0m\n\u001b[1;31mSyntaxError\u001b[0m\u001b[1;31m:\u001b[0m invalid syntax\n"
          ]
        }
      ],
      "source": [
        "b& = \"fsds\""
      ]
    },
    {
      "cell_type": "code",
      "execution_count": null,
      "metadata": {
        "id": "kvizL2i-cWiH"
      },
      "outputs": [],
      "source": [
        "name = \"sudh\"\n",
        "userid = \"IN001\"\n",
        "password = \"fsfsfsd\"\n",
        "mail = \"sudhans@ienru.ai\""
      ]
    },
    {
      "cell_type": "code",
      "execution_count": null,
      "metadata": {
        "id": "N6yqjSWlcWiJ"
      },
      "outputs": [],
      "source": [
        "a = 1.6423424242243434234234"
      ]
    },
    {
      "cell_type": "code",
      "execution_count": null,
      "metadata": {
        "id": "F0BCsa90cWiJ",
        "outputId": "f3426e1d-4285-48e2-e934-eec173b9f637"
      },
      "outputs": [
        {
          "data": {
            "text/plain": [
              "float"
            ]
          },
          "execution_count": 64,
          "metadata": {},
          "output_type": "execute_result"
        }
      ],
      "source": [
        "type(a )"
      ]
    },
    {
      "cell_type": "code",
      "execution_count": null,
      "metadata": {
        "id": "_XQ3IDy6cWiK"
      },
      "outputs": [],
      "source": [
        "b = True\n",
        "c = False"
      ]
    },
    {
      "cell_type": "code",
      "execution_count": null,
      "metadata": {
        "id": "0ZPFW0T_cWiK",
        "outputId": "0c705cea-5bf6-46bd-bfd5-d7352e764208"
      },
      "outputs": [
        {
          "data": {
            "text/plain": [
              "bool"
            ]
          },
          "execution_count": 66,
          "metadata": {},
          "output_type": "execute_result"
        }
      ],
      "source": [
        "type(b)"
      ]
    },
    {
      "cell_type": "code",
      "execution_count": null,
      "metadata": {
        "id": "BaXyuqMfcWiL",
        "outputId": "9e371849-5851-4df3-d5b9-f8c12ef35da0"
      },
      "outputs": [
        {
          "data": {
            "text/plain": [
              "bool"
            ]
          },
          "execution_count": 68,
          "metadata": {},
          "output_type": "execute_result"
        }
      ],
      "source": [
        "type(c)"
      ]
    },
    {
      "cell_type": "code",
      "execution_count": null,
      "metadata": {
        "id": "5iSI5C11cWiL",
        "outputId": "545be077-cdef-4235-a519-f61787c63ab0"
      },
      "outputs": [
        {
          "name": "stdout",
          "output_type": "stream",
          "text": [
            "4\n",
            "0\n"
          ]
        }
      ],
      "source": [
        "print(True + True + True + False + True  )\n",
        "print(False - True+ True )"
      ]
    },
    {
      "cell_type": "code",
      "execution_count": null,
      "metadata": {
        "id": "YPsWawkycWiM",
        "outputId": "d4fa843d-1bee-494b-bc16-b2aceaac4c9c"
      },
      "outputs": [
        {
          "data": {
            "text/plain": [
              "2"
            ]
          },
          "execution_count": 73,
          "metadata": {},
          "output_type": "execute_result"
        }
      ],
      "source": [
        "True + True -False"
      ]
    },
    {
      "cell_type": "code",
      "execution_count": null,
      "metadata": {
        "id": "FogFaNUBcWiM",
        "outputId": "3aa5c635-ba5b-4995-d6a1-855e1fe999ce"
      },
      "outputs": [
        {
          "ename": "ZeroDivisionError",
          "evalue": "division by zero",
          "output_type": "error",
          "traceback": [
            "\u001b[1;31m---------------------------------------------------------------------------\u001b[0m",
            "\u001b[1;31mZeroDivisionError\u001b[0m                         Traceback (most recent call last)",
            "\u001b[1;32m<ipython-input-75-f8487d9d0863>\u001b[0m in \u001b[0;36m<module>\u001b[1;34m\u001b[0m\n\u001b[1;32m----> 1\u001b[1;33m \u001b[1;32mTrue\u001b[0m \u001b[1;33m/\u001b[0m \u001b[1;32mFalse\u001b[0m\u001b[1;33m\u001b[0m\u001b[1;33m\u001b[0m\u001b[0m\n\u001b[0m",
            "\u001b[1;31mZeroDivisionError\u001b[0m: division by zero"
          ]
        }
      ],
      "source": [
        "True / False"
      ]
    },
    {
      "cell_type": "code",
      "execution_count": null,
      "metadata": {
        "id": "ioZLORFGcWid"
      },
      "outputs": [],
      "source": [
        "n  = 45 + 6j\n",
        "m = 56 + 8j"
      ]
    },
    {
      "cell_type": "code",
      "execution_count": null,
      "metadata": {
        "id": "un0z3KcIcWie",
        "outputId": "f57f45b5-8ab7-4a70-c25a-f02fbfa940e4"
      },
      "outputs": [
        {
          "data": {
            "text/plain": [
              "complex"
            ]
          },
          "execution_count": 89,
          "metadata": {},
          "output_type": "execute_result"
        }
      ],
      "source": [
        "type(m)"
      ]
    },
    {
      "cell_type": "code",
      "execution_count": null,
      "metadata": {
        "id": "WtqrkMQucWif",
        "outputId": "8ab44976-bde9-41d8-ae3a-2da335d5dad9"
      },
      "outputs": [
        {
          "data": {
            "text/plain": [
              "(2472+696j)"
            ]
          },
          "execution_count": 87,
          "metadata": {},
          "output_type": "execute_result"
        }
      ],
      "source": [
        "n* m"
      ]
    },
    {
      "cell_type": "code",
      "execution_count": null,
      "metadata": {
        "id": "66c0c-PMcWif",
        "outputId": "aa511977-25bb-4c21-c15c-b26a581fbd11"
      },
      "outputs": [
        {
          "data": {
            "text/plain": [
              "45.0"
            ]
          },
          "execution_count": 80,
          "metadata": {},
          "output_type": "execute_result"
        }
      ],
      "source": [
        "n.real"
      ]
    },
    {
      "cell_type": "code",
      "execution_count": null,
      "metadata": {
        "id": "Eje77JjTcWig",
        "outputId": "80b85cc6-13de-479a-e866-63b99e6a1aa7"
      },
      "outputs": [
        {
          "data": {
            "text/plain": [
              "6.0"
            ]
          },
          "execution_count": 81,
          "metadata": {},
          "output_type": "execute_result"
        }
      ],
      "source": [
        "n.imag"
      ]
    },
    {
      "cell_type": "code",
      "execution_count": null,
      "metadata": {
        "id": "SVyTajM0cWih",
        "outputId": "c696b139-81fc-45fe-c248-3babf2ee0289"
      },
      "outputs": [
        {
          "data": {
            "text/plain": [
              "str"
            ]
          },
          "execution_count": 88,
          "metadata": {},
          "output_type": "execute_result"
        }
      ],
      "source": [
        "b = \"sdf\"\n",
        "type(b)"
      ]
    },
    {
      "cell_type": "code",
      "execution_count": null,
      "metadata": {
        "id": "f4dmS_a0cWih",
        "outputId": "d8bd5363-83b9-4e0b-c28d-26c7d8925467"
      },
      "outputs": [
        {
          "data": {
            "text/plain": [
              "'1sudh'"
            ]
          },
          "execution_count": 94,
          "metadata": {},
          "output_type": "execute_result"
        }
      ],
      "source": [
        "\"1\"+ \"sudh\""
      ]
    },
    {
      "cell_type": "code",
      "execution_count": null,
      "metadata": {
        "id": "yPBbW_TLcWii",
        "outputId": "e3b79f52-c02c-45a3-dea0-f6d0653613f1"
      },
      "outputs": [
        {
          "data": {
            "text/plain": [
              "2.0"
            ]
          },
          "execution_count": 96,
          "metadata": {},
          "output_type": "execute_result"
        }
      ],
      "source": [
        "1+ 1.0"
      ]
    },
    {
      "cell_type": "code",
      "execution_count": null,
      "metadata": {
        "id": "k9BFZJrVcWij",
        "outputId": "e4a25e38-d956-4116-8626-3d5a627f2863"
      },
      "outputs": [
        {
          "data": {
            "text/plain": [
              "'sudhsudhsudh'"
            ]
          },
          "execution_count": 97,
          "metadata": {},
          "output_type": "execute_result"
        }
      ],
      "source": [
        "\"sudh\" + \"sudh\" + \"sudh\""
      ]
    },
    {
      "cell_type": "code",
      "execution_count": null,
      "metadata": {
        "id": "5EigspjKcWik",
        "outputId": "b5fe132d-b4d2-4c9d-c979-8c50ede8024e"
      },
      "outputs": [
        {
          "data": {
            "text/plain": [
              "'sudhsudhsudh'"
            ]
          },
          "execution_count": 100,
          "metadata": {},
          "output_type": "execute_result"
        }
      ],
      "source": [
        "\"sudh\" * 3"
      ]
    },
    {
      "cell_type": "code",
      "execution_count": null,
      "metadata": {
        "id": "X-_0hZbtcWil",
        "outputId": "329603f8-3c20-4717-e8b0-b35217bfb4ee"
      },
      "outputs": [
        {
          "data": {
            "text/plain": [
              "23"
            ]
          },
          "execution_count": 102,
          "metadata": {},
          "output_type": "execute_result"
        }
      ],
      "source": [
        "int('23')"
      ]
    },
    {
      "cell_type": "code",
      "execution_count": null,
      "metadata": {
        "id": "sjiTr3DbcWil",
        "outputId": "a432543a-fa42-405a-b228-a75319b9a78b"
      },
      "outputs": [
        {
          "ename": "ValueError",
          "evalue": "invalid literal for int() with base 10: '2354dfsdfs'",
          "output_type": "error",
          "traceback": [
            "\u001b[1;31m---------------------------------------------------------------------------\u001b[0m",
            "\u001b[1;31mValueError\u001b[0m                                Traceback (most recent call last)",
            "\u001b[1;32m<ipython-input-104-726447aa2631>\u001b[0m in \u001b[0;36m<module>\u001b[1;34m\u001b[0m\n\u001b[1;32m----> 1\u001b[1;33m \u001b[0mint\u001b[0m\u001b[1;33m(\u001b[0m\u001b[1;34m\"2354dfsdfs\"\u001b[0m\u001b[1;33m)\u001b[0m\u001b[1;33m\u001b[0m\u001b[1;33m\u001b[0m\u001b[0m\n\u001b[0m",
            "\u001b[1;31mValueError\u001b[0m: invalid literal for int() with base 10: '2354dfsdfs'"
          ]
        }
      ],
      "source": [
        "int(\"2354dfsdfs\")"
      ]
    },
    {
      "cell_type": "code",
      "execution_count": null,
      "metadata": {
        "id": "9C3WyKJHcWim"
      },
      "outputs": [],
      "source": [
        "a = 10"
      ]
    },
    {
      "cell_type": "code",
      "execution_count": null,
      "metadata": {
        "id": "44noX357cWim",
        "outputId": "c905ef0b-3420-4218-a5c3-a0861ba5d8cc"
      },
      "outputs": [
        {
          "name": "stdout",
          "output_type": "stream",
          "text": [
            "enter a interger 242344232\n"
          ]
        }
      ],
      "source": [
        "a = input(\"enter a interger \")"
      ]
    },
    {
      "cell_type": "code",
      "execution_count": null,
      "metadata": {
        "id": "e0BlVhFecWip",
        "outputId": "7a7609a2-c4ac-423d-e356-64326ed9fef0"
      },
      "outputs": [
        {
          "data": {
            "text/plain": [
              "str"
            ]
          },
          "execution_count": 113,
          "metadata": {},
          "output_type": "execute_result"
        }
      ],
      "source": [
        "type(a)"
      ]
    },
    {
      "cell_type": "code",
      "execution_count": null,
      "metadata": {
        "id": "B727J6uRcWiq",
        "outputId": "7871cc08-e18d-48ee-ce57-0e4bd7ff74e7"
      },
      "outputs": [
        {
          "name": "stdout",
          "output_type": "stream",
          "text": [
            "this is my var a 45\n",
            "this is my var b 454\n",
            "this is my var c 454\n"
          ]
        },
        {
          "data": {
            "text/plain": [
              "'(124+6j)sudh'"
            ]
          },
          "execution_count": 131,
          "metadata": {},
          "output_type": "execute_result"
        }
      ],
      "source": [
        "a = int(input(\"this is my var a \"))\n",
        "b = int(input(\"this is my var b \"))\n",
        "c = int(input(\"this is my var c \"))\n",
        "o = a+b/c\n",
        "o1 = o + 78 + 6j\n",
        "str(o1) + \"sudh\""
      ]
    },
    {
      "cell_type": "code",
      "execution_count": null,
      "metadata": {
        "id": "egaMduGVcWir"
      },
      "outputs": [],
      "source": [
        "o = a+b/c\n",
        "o1 = o + 78 + 6j"
      ]
    },
    {
      "cell_type": "code",
      "execution_count": null,
      "metadata": {
        "id": "ZaSpetMfcWis",
        "outputId": "1ba314fb-37da-4fd2-9ba1-5abf9328a5d3"
      },
      "outputs": [
        {
          "data": {
            "text/plain": [
              "(124.64705882352942+6j)"
            ]
          },
          "execution_count": 130,
          "metadata": {},
          "output_type": "execute_result"
        }
      ],
      "source": [
        "o1"
      ]
    },
    {
      "cell_type": "code",
      "execution_count": null,
      "metadata": {
        "id": "ts8uFJVscWit",
        "outputId": "b2f79376-3bf5-4363-8187-86077c6526a9"
      },
      "outputs": [
        {
          "data": {
            "text/plain": [
              "'(124.64705882352942+6j)sudh'"
            ]
          },
          "execution_count": 129,
          "metadata": {},
          "output_type": "execute_result"
        }
      ],
      "source": [
        "str(o1) + \"sudh\""
      ]
    },
    {
      "cell_type": "code",
      "execution_count": null,
      "metadata": {
        "id": "umYPOZo2cWiv",
        "outputId": "e992746d-00d3-4fb0-9a75-010751e41b71"
      },
      "outputs": [
        {
          "name": "stdout",
          "output_type": "stream",
          "text": [
            "input a number lesser then 34 -- 56\n"
          ]
        }
      ],
      "source": [
        "a = int(input(\"input a number lesser then 34 -- \"))"
      ]
    },
    {
      "cell_type": "code",
      "execution_count": null,
      "metadata": {
        "id": "tDK1NekRcWiv"
      },
      "outputs": [],
      "source": [
        "if a <34 :\n",
        "    pass"
      ]
    },
    {
      "cell_type": "code",
      "execution_count": null,
      "metadata": {
        "id": "xO4NGvJNcWiw",
        "outputId": "027f7594-7929-4eb1-f1ab-81352095ce9f"
      },
      "outputs": [
        {
          "name": "stdout",
          "output_type": "stream",
          "text": [
            "input a number78\n",
            " my data is lesser then 100\n"
          ]
        }
      ],
      "source": [
        "a = int(input(\"input a number\"))\n",
        "if a <34:\n",
        "    print(\"data input is lesser then 34 and i am fine with it \")\n",
        "elif a < 100:\n",
        "    print(\" my data is lesser then 100\")\n",
        "\n",
        "else:\n",
        "    print ( \"user input is not lesser then 34\")"
      ]
    },
    {
      "cell_type": "code",
      "execution_count": null,
      "metadata": {
        "id": "zO8lrIF5cWix",
        "outputId": "9a04aec2-789d-40f6-85e8-9fbd3aed5ab6"
      },
      "outputs": [
        {
          "name": "stdout",
          "output_type": "stream",
          "text": [
            "enter your salary10056\n",
            "you salary is good\n",
            "i will go with a card nano\n",
            "false code\n"
          ]
        }
      ],
      "source": [
        "salary = int(input(\"enter your salary\"))\n",
        "if( salary > 1000):\n",
        "    print(\"you salary is good\")\n",
        "    if salary > 5000:\n",
        "        print(\"i will go with a card nano\")\n",
        "        if True:\n",
        "            print(\"false code\")\n",
        "    elif salary >10000:\n",
        "        print(\"i will go with maruti\")\n",
        "    elif salary > 50000:\n",
        "        print(\"i wil go with toyota\")\n",
        "    else :\n",
        "        print(\"i will rent a car \")\n",
        "elif salary > 500:\n",
        "    print(\" i will go for bike \")\n",
        "elif salary> 100:\n",
        "    print(\"i will not buy anyting\")\n",
        "else :\n",
        "    print(\"i will go for savinig \")"
      ]
    },
    {
      "cell_type": "code",
      "execution_count": null,
      "metadata": {
        "id": "k9_bX-0ycWix",
        "outputId": "f790ec4e-009e-4b24-d140-eeb001a660e8"
      },
      "outputs": [
        {
          "data": {
            "text/plain": [
              "True"
            ]
          },
          "execution_count": 156,
          "metadata": {},
          "output_type": "execute_result"
        }
      ],
      "source": [
        "salary > 5000"
      ]
    },
    {
      "cell_type": "code",
      "execution_count": null,
      "metadata": {
        "id": "b2K_PDkscWiz"
      },
      "outputs": [],
      "source": [
        "void test(int i , float j ){\n",
        "\n",
        "}"
      ]
    },
    {
      "cell_type": "code",
      "execution_count": null,
      "metadata": {
        "id": "oqJEWtVHcWi0"
      },
      "outputs": [],
      "source": [
        "name = \"sudh\"\n",
        "test = \"dfsfsf\""
      ]
    },
    {
      "cell_type": "code",
      "execution_count": null,
      "metadata": {
        "id": "puePoXuVcWi0"
      },
      "outputs": [],
      "source": [
        "def test(name = str  , test = int):\n",
        "    name = \"fsfds\"\n",
        "    test= \"fsdfs\"\n",
        "    print(name, test)"
      ]
    },
    {
      "cell_type": "code",
      "execution_count": null,
      "metadata": {
        "id": "vr2ZHoi3cWi1",
        "outputId": "0a4ccee3-9151-4659-84d6-fc30cf360f94"
      },
      "outputs": [
        {
          "name": "stdout",
          "output_type": "stream",
          "text": [
            "fsfds fsdfs\n"
          ]
        }
      ],
      "source": [
        "test()"
      ]
    },
    {
      "cell_type": "code",
      "execution_count": null,
      "metadata": {
        "id": "kKWJrkwLcWi2"
      },
      "outputs": [],
      "source": [
        "def test1(name , id1):\n",
        "\n",
        "    print(test(),name , id1)\n",
        ""
      ]
    },
    {
      "cell_type": "code",
      "execution_count": null,
      "metadata": {
        "id": "uN9tSid_cWi3",
        "outputId": "c64d580d-91bf-448c-a03b-0e3b40df60f4"
      },
      "outputs": [
        {
          "name": "stdout",
          "output_type": "stream",
          "text": [
            "dasas Sds ds\n"
          ]
        }
      ],
      "source": [
        "test1(\"Sds\",\"ds\")"
      ]
    },
    {
      "cell_type": "code",
      "execution_count": null,
      "metadata": {
        "id": "YFT_kGlScWi4"
      },
      "outputs": [],
      "source": [
        "def test():\n",
        "        return \"dasas\""
      ]
    },
    {
      "cell_type": "code",
      "execution_count": null,
      "metadata": {
        "id": "ghU2hUVDcWi5"
      },
      "outputs": [],
      "source": []
    }
  ],
  "metadata": {
    "kernelspec": {
      "display_name": "Python 3",
      "language": "python",
      "name": "python3"
    },
    "language_info": {
      "codemirror_mode": {
        "name": "ipython",
        "version": 3
      },
      "file_extension": ".py",
      "mimetype": "text/x-python",
      "name": "python",
      "nbconvert_exporter": "python",
      "pygments_lexer": "ipython3",
      "version": "3.8.3"
    },
    "colab": {
      "provenance": [],
      "include_colab_link": true
    }
  },
  "nbformat": 4,
  "nbformat_minor": 0
}